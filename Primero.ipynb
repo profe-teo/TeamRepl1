{
  "nbformat": 4,
  "nbformat_minor": 0,
  "metadata": {
    "colab": {
      "provenance": [],
      "authorship_tag": "ABX9TyORPDV0RgU/+XNLt0/RqsQU",
      "include_colab_link": true
    },
    "kernelspec": {
      "name": "python3",
      "display_name": "Python 3"
    },
    "language_info": {
      "name": "python"
    }
  },
  "cells": [
    {
      "cell_type": "markdown",
      "metadata": {
        "id": "view-in-github",
        "colab_type": "text"
      },
      "source": [
        "<a href=\"https://colab.research.google.com/github/profe-teo/TeamRepl1/blob/master/Primero.ipynb\" target=\"_parent\"><img src=\"https://colab.research.google.com/assets/colab-badge.svg\" alt=\"Open In Colab\"/></a>"
      ]
    },
    {
      "cell_type": "markdown",
      "source": [
        "# Primer proyecto de programación\n",
        "## Markdown\n",
        "### Hola\n",
        "- uno\n",
        "- dos\n",
        "- tres\n",
        "\n",
        "Esto es un texto normal\n",
        "\n",
        "1. aaa\n",
        "1. kmkmk\n",
        "1. 2222"
      ],
      "metadata": {
        "id": "p5t_ky49GvCi"
      }
    },
    {
      "cell_type": "code",
      "source": [
        "print(\"Hola Mundo\")"
      ],
      "metadata": {
        "colab": {
          "base_uri": "https://localhost:8080/"
        },
        "id": "EMj8kdfoK14g",
        "outputId": "35029313-db91-4493-8597-6d154c279deb"
      },
      "execution_count": 1,
      "outputs": [
        {
          "output_type": "stream",
          "name": "stdout",
          "text": [
            "Hola Mundo\n"
          ]
        }
      ]
    },
    {
      "cell_type": "code",
      "source": [
        "print('Ahora con comillas simples')"
      ],
      "metadata": {
        "colab": {
          "base_uri": "https://localhost:8080/"
        },
        "id": "xjxELKIaLNVX",
        "outputId": "f609b86c-6235-4561-a3a7-527616b08486"
      },
      "execution_count": 2,
      "outputs": [
        {
          "output_type": "stream",
          "name": "stdout",
          "text": [
            "Ahora con comillas simples\n"
          ]
        }
      ]
    },
    {
      "cell_type": "code",
      "source": [
        "print(\"Comillas dentro de 'comillas' \")"
      ],
      "metadata": {
        "colab": {
          "base_uri": "https://localhost:8080/"
        },
        "id": "zVoKiHoKN9-M",
        "outputId": "113b5840-4819-4964-f6ea-06ddc42c2f2a"
      },
      "execution_count": 3,
      "outputs": [
        {
          "output_type": "stream",
          "name": "stdout",
          "text": [
            "Comillas dentro de 'comillas' \n"
          ]
        }
      ]
    },
    {
      "cell_type": "markdown",
      "source": [
        "## Variables\n",
        "Las variables son contenedores de datos\n"
      ],
      "metadata": {
        "id": "pUINwZJSO1D7"
      }
    },
    {
      "cell_type": "code",
      "source": [
        "nombre = 'Paco'\n",
        "nombre = 'María'\n",
        "print(nombre)"
      ],
      "metadata": {
        "colab": {
          "base_uri": "https://localhost:8080/"
        },
        "id": "MI-3UN5vOzZD",
        "outputId": "e15b31b4-7b81-4292-e362-6596599544ab"
      },
      "execution_count": 4,
      "outputs": [
        {
          "output_type": "stream",
          "name": "stdout",
          "text": [
            "María\n"
          ]
        }
      ]
    },
    {
      "cell_type": "code",
      "source": [
        "v1 = 'Hola'\n",
        "v2 = 12\n",
        "print(v1,v2) #kjhfskjagfsjaFG\n",
        "print(v1) #kjfh lkfh sakhf\n",
        "print(v2)"
      ],
      "metadata": {
        "colab": {
          "base_uri": "https://localhost:8080/"
        },
        "id": "13lRZvj-RnEe",
        "outputId": "a3db3470-3b28-49ac-b66e-87045aa5469d"
      },
      "execution_count": 5,
      "outputs": [
        {
          "output_type": "stream",
          "name": "stdout",
          "text": [
            "Hola 12\n",
            "Hola\n",
            "12\n"
          ]
        }
      ]
    },
    {
      "cell_type": "code",
      "source": [
        "nombre = 'Paco'\n",
        "edad = 23\n",
        "\n",
        "pepito = str(edad)\n",
        "\n",
        "print('Hola, soy ' + nombre)\n",
        "\n",
        "print('Tengo ' + pepito)\n",
        "\n",
        "print('Hola, soy ' + nombre + ' y tengo ' + pepito + ' años.')\n",
        "\n",
        "print(f'Hola, soy {nombre} y tengo {edad} años.')"
      ],
      "metadata": {
        "colab": {
          "base_uri": "https://localhost:8080/"
        },
        "id": "KCkds6C0SF74",
        "outputId": "6fccabf6-23e5-4a0f-946d-d5da79f86af2"
      },
      "execution_count": 6,
      "outputs": [
        {
          "output_type": "stream",
          "name": "stdout",
          "text": [
            "Hola, soy Paco\n",
            "Tengo 23\n",
            "Hola, soy Paco y tengo 23 años.\n",
            "Hola, soy Paco y tengo 23 años.\n"
          ]
        }
      ]
    },
    {
      "cell_type": "code",
      "source": [
        "numero1 = 11\n",
        "numero2 = 5\n",
        "\n",
        "division_entera = numero1 // numero2\n",
        "print(division_entera)\n",
        "\n",
        "resto = numero1 % numero2\n",
        "print(resto)\n",
        "\n",
        "print(f'Cociente: {division_entera} \\nResto: {resto}')\n",
        "\n",
        "cadena_formato = f'Cociente: {division_entera} \\nResto: {resto}'\n",
        "\n",
        "print(cadena_formato)"
      ],
      "metadata": {
        "colab": {
          "base_uri": "https://localhost:8080/"
        },
        "id": "oYVBYmxQvNqE",
        "outputId": "ff4bc3d2-0a90-4eee-f4ed-48d642ba041e"
      },
      "execution_count": 10,
      "outputs": [
        {
          "output_type": "stream",
          "name": "stdout",
          "text": [
            "2\n",
            "1\n",
            "Cociente: 2 \n",
            "Resto: 1\n",
            "Cociente: 2 \n",
            "Resto: 1\n"
          ]
        }
      ]
    },
    {
      "cell_type": "code",
      "source": [
        "numero1 = 11\n",
        "numero2 = 5\n",
        "\n",
        "division_entera = numero1 // numero2\n",
        "print(division_entera)\n",
        "\n",
        "resto = numero1 % numero2\n",
        "print(resto)"
      ],
      "metadata": {
        "colab": {
          "base_uri": "https://localhost:8080/"
        },
        "id": "eTYO8zjn1seF",
        "outputId": "734392d7-73a0-469f-e050-c827bc412ec5"
      },
      "execution_count": 9,
      "outputs": [
        {
          "output_type": "stream",
          "name": "stdout",
          "text": [
            "2\n",
            "1\n"
          ]
        }
      ]
    },
    {
      "cell_type": "code",
      "source": [
        "numero11 = 11\n",
        "numero21 = 5\n",
        "division_entera1 = numero1 // numero2\n",
        "print(division_entera1)\n",
        "\n",
        "resto1 = numero11 % numero21\n",
        "print(resto1)\n",
        "print(f'Cociente {division_entera1} \\nResto: {resto1}')\n",
        "cadena_formato1 = f'Cociente {division_entera1} \\nResto: {resto1}'\n",
        "print(cadena_formato1)"
      ],
      "metadata": {
        "colab": {
          "base_uri": "https://localhost:8080/"
        },
        "id": "uj5jf-m58l29",
        "outputId": "267a6fb4-6f84-42c4-cdf5-07ae27fc60d5"
      },
      "execution_count": 15,
      "outputs": [
        {
          "output_type": "stream",
          "name": "stdout",
          "text": [
            "2\n",
            "1\n",
            "Cociente 2 \n",
            "Resto: 1\n",
            "Cociente 2 \n",
            "Resto: 1\n"
          ]
        }
      ]
    },
    {
      "cell_type": "code",
      "source": [
        "contador = 0\n",
        "contador = contador + 1\n",
        "contador = contador + 1\n",
        "contador = contador + 1\n",
        "contador = contador + 1\n",
        "contador = contador + 1\n",
        "contador = contador + 1\n",
        "contador = contador + 1\n",
        "contador = contador + 1\n",
        "contador = contador + 1\n",
        "contador = contador + 1\n",
        "contador = contador + 1\n",
        "contador = contador + 1\n",
        "print(contador)\n",
        "\n",
        "\n"
      ],
      "metadata": {
        "colab": {
          "base_uri": "https://localhost:8080/"
        },
        "id": "v0GzWHoO9Wuv",
        "outputId": "fe9a274f-5472-496d-c56d-1824ec228804"
      },
      "execution_count": 26,
      "outputs": [
        {
          "output_type": "stream",
          "name": "stdout",
          "text": [
            "12\n"
          ]
        }
      ]
    },
    {
      "cell_type": "code",
      "source": [
        "txt = 'Hola'\n",
        "txt = txt + ' q '\n",
        "txt = txt + ' q '\n",
        "txt = txt + ' q '\n",
        "txt = txt + ' q '\n",
        "txt = txt + ' q '\n",
        "print(txt)"
      ],
      "metadata": {
        "colab": {
          "base_uri": "https://localhost:8080/"
        },
        "id": "RXdagfRSCzbh",
        "outputId": "06eef0b8-0561-4c18-f9b2-ad9f1a97371f"
      },
      "execution_count": 24,
      "outputs": [
        {
          "output_type": "stream",
          "name": "stdout",
          "text": [
            "Hola q  q  q  q  q \n"
          ]
        }
      ]
    },
    {
      "cell_type": "code",
      "source": [
        "contador = 0\n",
        "contador += 2\n",
        "contador += 2\n",
        "contador += 2\n",
        "\n",
        "print(contador)"
      ],
      "metadata": {
        "colab": {
          "base_uri": "https://localhost:8080/"
        },
        "id": "2UUhOlkQErAF",
        "outputId": "c2b6ca75-3bd8-408b-b259-dd5e1670d15c"
      },
      "execution_count": 31,
      "outputs": [
        {
          "output_type": "stream",
          "name": "stdout",
          "text": [
            "6\n"
          ]
        }
      ]
    },
    {
      "cell_type": "code",
      "source": [
        "contador = 0\n",
        "contador -= 2\n",
        "contador -= 2\n",
        "contador -= 2\n",
        "\n",
        "print(contador)"
      ],
      "metadata": {
        "colab": {
          "base_uri": "https://localhost:8080/"
        },
        "id": "FrtVCBOzGa-r",
        "outputId": "487c64fc-cd75-450e-98da-becc6916e27a"
      },
      "execution_count": 32,
      "outputs": [
        {
          "output_type": "stream",
          "name": "stdout",
          "text": [
            "-6\n"
          ]
        }
      ]
    },
    {
      "cell_type": "code",
      "source": [
        "contador = 12\n",
        "contador /= 3\n",
        "contador /= 2\n",
        "contador /= 2\n",
        "\n",
        "print(contador)"
      ],
      "metadata": {
        "colab": {
          "base_uri": "https://localhost:8080/"
        },
        "id": "JzLS2Kd7Gt6q",
        "outputId": "5a3e615a-5d23-4026-f917-265958fc03ae"
      },
      "execution_count": 35,
      "outputs": [
        {
          "output_type": "stream",
          "name": "stdout",
          "text": [
            "1.0\n"
          ]
        }
      ]
    }
  ]
}